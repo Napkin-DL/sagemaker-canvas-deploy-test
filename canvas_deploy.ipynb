{
 "cells": [
  {
   "cell_type": "markdown",
   "id": "7bc59b04-419f-479b-b496-dc88cf7689cf",
   "metadata": {},
   "source": [
    "## Lab1 - Customer Churn (Marketing)"
   ]
  },
  {
   "cell_type": "code",
   "execution_count": 206,
   "id": "d2b419e0-99cb-4aaf-8543-54f2de39c0ee",
   "metadata": {
    "tags": []
   },
   "outputs": [],
   "source": [
    "import boto3\n",
    "import json\n",
    "import pandas as pd\n",
    "\n",
    "sm_client = boto3.client('sagemaker')\n",
    "runtime_client = boto3.client(\"runtime.sagemaker\")"
   ]
  },
  {
   "cell_type": "code",
   "execution_count": 208,
   "id": "508f1657-caf7-44f0-a214-c3f40dea3e8d",
   "metadata": {
    "tags": []
   },
   "outputs": [],
   "source": [
    "# Configuration\n",
    "endpoint_name = \"canvas-new-deployment-02-12-2024-4-07-PM\"  ## Replace Endpoint name\n",
    "variant_name = sm_client.describe_endpoint(EndpointName=endpoint_name)['ProductionVariants'][0]['VariantName']"
   ]
  },
  {
   "cell_type": "markdown",
   "id": "66b3e779-31b2-4a56-9061-945891168369",
   "metadata": {},
   "source": [
    "### Test data"
   ]
  },
  {
   "cell_type": "code",
   "execution_count": 209,
   "id": "bdfbb0de-4c4e-4dc1-83e0-48b9f2b51c66",
   "metadata": {
    "tags": []
   },
   "outputs": [],
   "source": [
    "body = \"MO,176,777,913-2699,no,yes,400,1.639329295774005,3,3.678888958431078,3.0296212421701054,1,3.419607317320714,3.1829204913988565,150,3.701859799002945,4.4130370771175285,6,2.728670064271372,7\""
   ]
  },
  {
   "cell_type": "markdown",
   "id": "389a1bf1-c191-4f26-90c5-5999d271d6b0",
   "metadata": {},
   "source": [
    "### boto3 방식 invocation"
   ]
  },
  {
   "cell_type": "code",
   "execution_count": 294,
   "id": "8e42a8b2-e8a7-4383-9fc6-caa6fde9693a",
   "metadata": {
    "tags": []
   },
   "outputs": [
    {
     "ename": "ModelError",
     "evalue": "An error occurred (ModelError) when calling the InvokeEndpoint operation: Received server error (500) from primary with message \"Invalid data format. Input data has 20 while the model expects 8 ['UDI', 'Product ID', 'Type', 'Air temperature', 'Process temperature', 'Rotational speed', 'Torque', 'Tool wear'] <class 'list'>\nTraceback (most recent call last):\n  File \"/usr/local/lib/python3.8/dist-packages/sagemaker_inference/transformer.py\", line 128, in transform\n    result = self._transform_fn(self._model, input_data, content_type, accept)\n  File \"/opt/ml/model/code/tabular_serve.py\", line 80, in transform_fn\n    raise Exception(\nException: Invalid data format. Input data has 20 while the model expects 8 ['UDI', 'Product ID', 'Type', 'Air temperature', 'Process temperature', 'Rotational speed', 'Torque', 'Tool wear'] <class 'list'>\n\". See https://us-west-2.console.aws.amazon.com/cloudwatch/home?region=us-west-2#logEventViewer:group=/aws/sagemaker/Endpoints/canvas-new-deployment-02-12-2024-8-45-PM in account 322537213286 for more information.",
     "output_type": "error",
     "traceback": [
      "\u001b[0;31m---------------------------------------------------------------------------\u001b[0m",
      "\u001b[0;31mModelError\u001b[0m                                Traceback (most recent call last)",
      "Cell \u001b[0;32mIn[294], line 1\u001b[0m\n\u001b[0;32m----> 1\u001b[0m response \u001b[38;5;241m=\u001b[39m \u001b[43mruntime_client\u001b[49m\u001b[38;5;241;43m.\u001b[39;49m\u001b[43minvoke_endpoint\u001b[49m\u001b[43m(\u001b[49m\n\u001b[1;32m      2\u001b[0m \u001b[43m    \u001b[49m\u001b[43mEndpointName\u001b[49m\u001b[38;5;241;43m=\u001b[39;49m\u001b[43mendpoint_name\u001b[49m\u001b[43m,\u001b[49m\n\u001b[1;32m      3\u001b[0m \u001b[43m    \u001b[49m\u001b[43mContentType\u001b[49m\u001b[38;5;241;43m=\u001b[39;49m\u001b[38;5;124;43m\"\u001b[39;49m\u001b[38;5;124;43mtext/csv\u001b[39;49m\u001b[38;5;124;43m\"\u001b[39;49m\u001b[43m,\u001b[49m\n\u001b[1;32m      4\u001b[0m \u001b[43m    \u001b[49m\u001b[43mBody\u001b[49m\u001b[38;5;241;43m=\u001b[39;49m\u001b[43mbody\u001b[49m\u001b[43m,\u001b[49m\n\u001b[1;32m      5\u001b[0m \u001b[43m    \u001b[49m\u001b[43mAccept\u001b[49m\u001b[38;5;241;43m=\u001b[39;49m\u001b[38;5;124;43m\"\u001b[39;49m\u001b[38;5;124;43mapplication/json\u001b[39;49m\u001b[38;5;124;43m\"\u001b[39;49m\n\u001b[1;32m      6\u001b[0m \u001b[43m)\u001b[49m\n\u001b[1;32m      7\u001b[0m data \u001b[38;5;241m=\u001b[39m response[\u001b[38;5;124m\"\u001b[39m\u001b[38;5;124mBody\u001b[39m\u001b[38;5;124m\"\u001b[39m]\u001b[38;5;241m.\u001b[39mread()\u001b[38;5;241m.\u001b[39mdecode(\u001b[38;5;124m\"\u001b[39m\u001b[38;5;124mutf-8\u001b[39m\u001b[38;5;124m\"\u001b[39m)\n\u001b[1;32m      8\u001b[0m output \u001b[38;5;241m=\u001b[39m json\u001b[38;5;241m.\u001b[39mloads(data)[\u001b[38;5;124m\"\u001b[39m\u001b[38;5;124mpredictions\u001b[39m\u001b[38;5;124m\"\u001b[39m]\n",
      "File \u001b[0;32m~/anaconda3/envs/python3/lib/python3.10/site-packages/botocore/client.py:553\u001b[0m, in \u001b[0;36mClientCreator._create_api_method.<locals>._api_call\u001b[0;34m(self, *args, **kwargs)\u001b[0m\n\u001b[1;32m    549\u001b[0m     \u001b[38;5;28;01mraise\u001b[39;00m \u001b[38;5;167;01mTypeError\u001b[39;00m(\n\u001b[1;32m    550\u001b[0m         \u001b[38;5;124mf\u001b[39m\u001b[38;5;124m\"\u001b[39m\u001b[38;5;132;01m{\u001b[39;00mpy_operation_name\u001b[38;5;132;01m}\u001b[39;00m\u001b[38;5;124m() only accepts keyword arguments.\u001b[39m\u001b[38;5;124m\"\u001b[39m\n\u001b[1;32m    551\u001b[0m     )\n\u001b[1;32m    552\u001b[0m \u001b[38;5;66;03m# The \"self\" in this scope is referring to the BaseClient.\u001b[39;00m\n\u001b[0;32m--> 553\u001b[0m \u001b[38;5;28;01mreturn\u001b[39;00m \u001b[38;5;28;43mself\u001b[39;49m\u001b[38;5;241;43m.\u001b[39;49m\u001b[43m_make_api_call\u001b[49m\u001b[43m(\u001b[49m\u001b[43moperation_name\u001b[49m\u001b[43m,\u001b[49m\u001b[43m \u001b[49m\u001b[43mkwargs\u001b[49m\u001b[43m)\u001b[49m\n",
      "File \u001b[0;32m~/anaconda3/envs/python3/lib/python3.10/site-packages/botocore/client.py:1009\u001b[0m, in \u001b[0;36mBaseClient._make_api_call\u001b[0;34m(self, operation_name, api_params)\u001b[0m\n\u001b[1;32m   1005\u001b[0m     error_code \u001b[38;5;241m=\u001b[39m error_info\u001b[38;5;241m.\u001b[39mget(\u001b[38;5;124m\"\u001b[39m\u001b[38;5;124mQueryErrorCode\u001b[39m\u001b[38;5;124m\"\u001b[39m) \u001b[38;5;129;01mor\u001b[39;00m error_info\u001b[38;5;241m.\u001b[39mget(\n\u001b[1;32m   1006\u001b[0m         \u001b[38;5;124m\"\u001b[39m\u001b[38;5;124mCode\u001b[39m\u001b[38;5;124m\"\u001b[39m\n\u001b[1;32m   1007\u001b[0m     )\n\u001b[1;32m   1008\u001b[0m     error_class \u001b[38;5;241m=\u001b[39m \u001b[38;5;28mself\u001b[39m\u001b[38;5;241m.\u001b[39mexceptions\u001b[38;5;241m.\u001b[39mfrom_code(error_code)\n\u001b[0;32m-> 1009\u001b[0m     \u001b[38;5;28;01mraise\u001b[39;00m error_class(parsed_response, operation_name)\n\u001b[1;32m   1010\u001b[0m \u001b[38;5;28;01melse\u001b[39;00m:\n\u001b[1;32m   1011\u001b[0m     \u001b[38;5;28;01mreturn\u001b[39;00m parsed_response\n",
      "\u001b[0;31mModelError\u001b[0m: An error occurred (ModelError) when calling the InvokeEndpoint operation: Received server error (500) from primary with message \"Invalid data format. Input data has 20 while the model expects 8 ['UDI', 'Product ID', 'Type', 'Air temperature', 'Process temperature', 'Rotational speed', 'Torque', 'Tool wear'] <class 'list'>\nTraceback (most recent call last):\n  File \"/usr/local/lib/python3.8/dist-packages/sagemaker_inference/transformer.py\", line 128, in transform\n    result = self._transform_fn(self._model, input_data, content_type, accept)\n  File \"/opt/ml/model/code/tabular_serve.py\", line 80, in transform_fn\n    raise Exception(\nException: Invalid data format. Input data has 20 while the model expects 8 ['UDI', 'Product ID', 'Type', 'Air temperature', 'Process temperature', 'Rotational speed', 'Torque', 'Tool wear'] <class 'list'>\n\". See https://us-west-2.console.aws.amazon.com/cloudwatch/home?region=us-west-2#logEventViewer:group=/aws/sagemaker/Endpoints/canvas-new-deployment-02-12-2024-8-45-PM in account 322537213286 for more information."
     ]
    }
   ],
   "source": [
    "response = runtime_client.invoke_endpoint(\n",
    "    EndpointName=endpoint_name,\n",
    "    ContentType=\"text/csv\",\n",
    "    Body=body,\n",
    "    Accept=\"application/json\"\n",
    ")\n",
    "data = response[\"Body\"].read().decode(\"utf-8\")\n",
    "output = json.loads(data)[\"predictions\"]\n",
    "output"
   ]
  },
  {
   "cell_type": "markdown",
   "id": "ce31f51f-69a5-4fb6-a47c-2868b6f9288e",
   "metadata": {},
   "source": [
    "### SageMaker 방식 invocation"
   ]
  },
  {
   "cell_type": "code",
   "execution_count": 193,
   "id": "ba4d1778-460c-440b-808a-f312b28ab1e2",
   "metadata": {
    "tags": []
   },
   "outputs": [
    {
     "data": {
      "text/plain": [
       "[['False.',\n",
       "  '0.9965066909790039',\n",
       "  '[0.9965066909790039, 0.003493297379463911]',\n",
       "  \"['False.', 'True.']\"]]"
      ]
     },
     "execution_count": 193,
     "metadata": {},
     "output_type": "execute_result"
    }
   ],
   "source": [
    "import sagemaker\n",
    "\n",
    "# SageMaker configuration setup\n",
    "session = sagemaker.session.Session()\n",
    "serializer = sagemaker.serializers.CSVSerializer()\n",
    "deserializer = sagemaker.deserializers.CSVDeserializer()\n",
    "\n",
    "# Connect to the endpoint and query\n",
    "predictor = sagemaker.predictor.Predictor(\n",
    "    endpoint_name=endpoint_name, \n",
    "    sagemaker_session=session,\n",
    "    serializer=serializer,\n",
    "    deserializer=deserializer\n",
    ")\n",
    "predictor.predict(body)\n"
   ]
  },
  {
   "cell_type": "markdown",
   "id": "9e59dcc4-854c-401a-9752-b5244cd9be9b",
   "metadata": {},
   "source": [
    "## Chalice 를 이용한 Rest API 구성"
   ]
  },
  {
   "cell_type": "code",
   "execution_count": 194,
   "id": "6b88b54f-81a2-4643-a047-49fa0a8d0a09",
   "metadata": {
    "tags": []
   },
   "outputs": [
    {
     "name": "stdout",
     "output_type": "stream",
     "text": [
      "Requirement already satisfied: chalice in /home/ec2-user/anaconda3/envs/python3/lib/python3.10/site-packages (1.30.0)\n",
      "Requirement already satisfied: click<9.0,>=7 in /home/ec2-user/anaconda3/envs/python3/lib/python3.10/site-packages (from chalice) (8.1.7)\n",
      "Requirement already satisfied: botocore<2.0.0,>=1.14.0 in /home/ec2-user/anaconda3/envs/python3/lib/python3.10/site-packages (from chalice) (1.34.26)\n",
      "Requirement already satisfied: typing-extensions<5.0.0,>=4.0.0 in /home/ec2-user/anaconda3/envs/python3/lib/python3.10/site-packages (from chalice) (4.8.0)\n",
      "Requirement already satisfied: six<2.0.0,>=1.10.0 in /home/ec2-user/anaconda3/envs/python3/lib/python3.10/site-packages (from chalice) (1.16.0)\n",
      "Requirement already satisfied: pip<23.4,>=9 in /home/ec2-user/anaconda3/envs/python3/lib/python3.10/site-packages (from chalice) (23.3.1)\n",
      "Requirement already satisfied: jmespath<2.0.0,>=0.9.3 in /home/ec2-user/anaconda3/envs/python3/lib/python3.10/site-packages (from chalice) (1.0.1)\n",
      "Requirement already satisfied: pyyaml<7.0.0,>=5.3.1 in /home/ec2-user/anaconda3/envs/python3/lib/python3.10/site-packages (from chalice) (6.0.1)\n",
      "Requirement already satisfied: inquirer<3.0.0,>=2.7.0 in /home/ec2-user/anaconda3/envs/python3/lib/python3.10/site-packages (from chalice) (2.10.1)\n",
      "Requirement already satisfied: wheel in /home/ec2-user/anaconda3/envs/python3/lib/python3.10/site-packages (from chalice) (0.41.2)\n",
      "Requirement already satisfied: setuptools in /home/ec2-user/anaconda3/envs/python3/lib/python3.10/site-packages (from chalice) (68.2.2)\n",
      "Requirement already satisfied: python-dateutil<3.0.0,>=2.1 in /home/ec2-user/anaconda3/envs/python3/lib/python3.10/site-packages (from botocore<2.0.0,>=1.14.0->chalice) (2.8.2)\n",
      "Requirement already satisfied: urllib3<2.1,>=1.25.4 in /home/ec2-user/anaconda3/envs/python3/lib/python3.10/site-packages (from botocore<2.0.0,>=1.14.0->chalice) (1.26.18)\n",
      "Requirement already satisfied: blessed>=1.19.0 in /home/ec2-user/anaconda3/envs/python3/lib/python3.10/site-packages (from inquirer<3.0.0,>=2.7.0->chalice) (1.20.0)\n",
      "Requirement already satisfied: python-editor>=1.0.4 in /home/ec2-user/anaconda3/envs/python3/lib/python3.10/site-packages (from inquirer<3.0.0,>=2.7.0->chalice) (1.0.4)\n",
      "Requirement already satisfied: readchar>=3.0.6 in /home/ec2-user/anaconda3/envs/python3/lib/python3.10/site-packages (from inquirer<3.0.0,>=2.7.0->chalice) (4.0.5)\n",
      "Requirement already satisfied: wcwidth>=0.1.4 in /home/ec2-user/anaconda3/envs/python3/lib/python3.10/site-packages (from blessed>=1.19.0->inquirer<3.0.0,>=2.7.0->chalice) (0.2.8)\n",
      "Loaded plugins: dkms-build-requires, extras_suggestions, kernel-livepatch,\n",
      "              : langpacks, priorities, update-motd, versionlock\n",
      "amzn2-core                                               | 3.6 kB     00:00     \n",
      "https://download.docker.com/linux/centos/2/x86_64/stable/repodata/repomd.xml: [Errno 14] HTTPS Error 404 - Not Found\n",
      "Trying other mirror.\n",
      "neuron                                                   | 2.9 kB     00:00     \n",
      "62 packages excluded due to repository priority protections\n",
      "Package tree-1.6.0-10.amzn2.0.1.x86_64 already installed and latest version\n",
      "Nothing to do\n"
     ]
    }
   ],
   "source": [
    "!pip install chalice\n",
    "!sudo yum -y install tree"
   ]
  },
  {
   "cell_type": "code",
   "execution_count": 247,
   "id": "f16baecf-6fd9-4b19-bd3d-1c7862f80fcd",
   "metadata": {
    "tags": []
   },
   "outputs": [],
   "source": [
    "from pathlib import Path\n",
    "import jinja2\n",
    "jinja_env = jinja2.Environment()"
   ]
  },
  {
   "cell_type": "code",
   "execution_count": 248,
   "id": "e5c369c6-c1b7-42d2-b160-7425b5115306",
   "metadata": {
    "tags": []
   },
   "outputs": [
    {
     "name": "stdout",
     "output_type": "stream",
     "text": [
      "Your project has been generated in ./churn-prediction\n"
     ]
    }
   ],
   "source": [
    "project_name = 'churn-prediction'\n",
    "!rm -rf $project_name\n",
    "!chalice new-project $project_name"
   ]
  },
  {
   "cell_type": "code",
   "execution_count": 249,
   "id": "e28a3cbe-851e-413c-9d6f-023260122613",
   "metadata": {
    "tags": []
   },
   "outputs": [
    {
     "name": "stdout",
     "output_type": "stream",
     "text": [
      "churn-prediction\n",
      "├── app.py\n",
      "├── .chalice\n",
      "│   └── config.json\n",
      "├── .gitignore\n",
      "└── requirements.txt\n",
      "\n",
      "1 directory, 4 files\n"
     ]
    }
   ],
   "source": [
    "!tree -a $project_name"
   ]
  },
  {
   "cell_type": "markdown",
   "id": "df17716f-3822-4353-86c2-725672dcb51b",
   "metadata": {
    "tags": []
   },
   "source": [
    "#### Setup config.json\n",
    " > Chalice는 IAM 정책 자동 생성 기능이 있지만, 필요한 정책을 가진 IAM 정책을 생성할수 있습니다. 기본적으로는 직접 IAM 정책을 생성하는 것이 안전합니다.\n",
    " > 자세한 내용은 https://chalice-fei.readthedocs.io/en/latest/topics/configfile.html 를 참조하기 바랍니다.\n",
    "\n",
    "##### autogen_policy:\n",
    "\n",
    "- 애플리케이션 소스 코드 분석을 기반으로 chalice가 IAM 정책을 자동으로 생성할지 여부를 설정 (디폴트 = True)\n",
    "- False인 경우, .chalice/policy-<단계 이름>.json에서 IAM 정책을 로드\n",
    "- iam_policy_file 지정으로 불러올 policy 파일명을 변경할 수도 있음"
   ]
  },
  {
   "cell_type": "code",
   "execution_count": 250,
   "id": "18cdc7b3-0f4d-468f-aebc-212e59019937",
   "metadata": {
    "tags": []
   },
   "outputs": [
    {
     "name": "stdout",
     "output_type": "stream",
     "text": [
      "Writing churn-prediction/.chalice/policy-dev.json\n"
     ]
    }
   ],
   "source": [
    "%%writefile $project_name/.chalice/policy-dev.json\n",
    "{\n",
    "    \"Version\": \"2012-10-17\",\n",
    "    \"Statement\": [\n",
    "        {\n",
    "            \"Sid\": \"VisualEditor0\",\n",
    "            \"Effect\": \"Allow\",\n",
    "            \"Action\": [\n",
    "                \"logs:CreateLogStream\",\n",
    "                \"logs:PutLogEvents\",\n",
    "                \"logs:CreateLogGroup\"\n",
    "            ],\n",
    "            \"Resource\": \"arn:aws:logs:*:*:*\"\n",
    "        },\n",
    "        {\n",
    "            \"Sid\": \"VisualEditor1\",\n",
    "            \"Effect\": \"Allow\",\n",
    "            \"Action\": \"sagemaker:InvokeEndpoint\",\n",
    "            \"Resource\": \"*\"\n",
    "        }\n",
    "    ]\n",
    "}"
   ]
  },
  {
   "cell_type": "code",
   "execution_count": 251,
   "id": "ef565531-b440-448c-8c3f-baa4a4a8b55f",
   "metadata": {
    "tags": []
   },
   "outputs": [],
   "source": [
    "# %%writefile $project_name/.chalice/config.json\n",
    "\n",
    "# {\n",
    "#     \"Version\": \"2.0\",\n",
    "#     \"app_name\": \"churn-prediction\",\n",
    "#     \"autogen_policy\": false,\n",
    "#     \"automatic_layer\": true,\n",
    "#     \"environment_variables\": {\n",
    "#         \"ENDPOINT_NAME\": \"canvas-new-deployment-02-12-2024-4-07-PM\"\n",
    "#     },\n",
    "#     \"stages\": {\n",
    "#         \"dev\": {\n",
    "#             \"api_gateway_stage\": \"api\",\n",
    "#             \"iam_policy_file\": \"policy-dev.json\",\n",
    "#             \"subnet_ids\": [\"subnet-xxxxxxxxxxxxxx\", \"subnet-xxxxxxxxxxxxxx\"],\n",
    "#             \"security_group_ids\": [\"sg-xxxxxxxxxxxxxx\"],\n",
    "#         }    \n",
    "#     }\n",
    "# }"
   ]
  },
  {
   "cell_type": "code",
   "execution_count": 252,
   "id": "107a7bd8-4cab-48b1-97a1-3af09326409b",
   "metadata": {
    "tags": []
   },
   "outputs": [],
   "source": [
    "config_filename = f'{project_name}/.chalice/config.json'"
   ]
  },
  {
   "cell_type": "code",
   "execution_count": 253,
   "id": "4c07248f-8481-4195-a7b6-b5cf85ebf4a4",
   "metadata": {
    "tags": []
   },
   "outputs": [
    {
     "name": "stdout",
     "output_type": "stream",
     "text": [
      "Overwriting churn-prediction/.chalice/config.json\n"
     ]
    }
   ],
   "source": [
    "%%writefile $config_filename\n",
    "\n",
    "{\n",
    "    \"Version\": \"2.0\",\n",
    "    \"app_name\": \"churn-prediction\",\n",
    "    \"autogen_policy\": false,\n",
    "    \"automatic_layer\": true,\n",
    "    \"environment_variables\": {\n",
    "        \"ENDPOINT_NAME\": \"{{endpoint_name}}\",\n",
    "        \"VARIANT_NAME\" : \"{{variant_name}}\"\n",
    "    },\n",
    "    \"stages\": {\n",
    "        \"dev\": {\n",
    "            \"api_gateway_stage\": \"api\",\n",
    "             \"iam_policy_file\": \"policy-dev.json\"\n",
    "        }\n",
    "    }\n",
    "}"
   ]
  },
  {
   "cell_type": "code",
   "execution_count": 254,
   "id": "309fdfb5-7279-434e-bc64-5521fa5986c2",
   "metadata": {
    "tags": []
   },
   "outputs": [
    {
     "name": "stdout",
     "output_type": "stream",
     "text": [
      "     1\t{\u001b[37m\u001b[39;49;00m\n",
      "     2\t\u001b[37m    \u001b[39;49;00m\u001b[94m\"Version\"\u001b[39;49;00m:\u001b[37m \u001b[39;49;00m\u001b[33m\"2.0\"\u001b[39;49;00m,\u001b[37m\u001b[39;49;00m\n",
      "     3\t\u001b[37m    \u001b[39;49;00m\u001b[94m\"app_name\"\u001b[39;49;00m:\u001b[37m \u001b[39;49;00m\u001b[33m\"churn-prediction\"\u001b[39;49;00m,\u001b[37m\u001b[39;49;00m\n",
      "     4\t\u001b[37m    \u001b[39;49;00m\u001b[94m\"autogen_policy\"\u001b[39;49;00m:\u001b[37m \u001b[39;49;00m\u001b[34mfalse\u001b[39;49;00m,\u001b[37m\u001b[39;49;00m\n",
      "     5\t\u001b[37m    \u001b[39;49;00m\u001b[94m\"automatic_layer\"\u001b[39;49;00m:\u001b[37m \u001b[39;49;00m\u001b[34mtrue\u001b[39;49;00m,\u001b[37m\u001b[39;49;00m\n",
      "     6\t\u001b[37m    \u001b[39;49;00m\u001b[94m\"environment_variables\"\u001b[39;49;00m:\u001b[37m \u001b[39;49;00m{\u001b[37m\u001b[39;49;00m\n",
      "     7\t\u001b[37m        \u001b[39;49;00m\u001b[94m\"ENDPOINT_NAME\"\u001b[39;49;00m:\u001b[37m \u001b[39;49;00m\u001b[33m\"canvas-new-deployment-02-12-2024-4-07-PM\"\u001b[39;49;00m,\u001b[37m\u001b[39;49;00m\n",
      "     8\t\u001b[37m        \u001b[39;49;00m\u001b[94m\"VARIANT_NAME\"\u001b[39;49;00m\u001b[37m \u001b[39;49;00m:\u001b[37m \u001b[39;49;00m\u001b[33m\"canvas-model-variant-2024-02-12-07-07-15-529579\"\u001b[39;49;00m\u001b[37m\u001b[39;49;00m\n",
      "     9\t\u001b[37m    \u001b[39;49;00m},\u001b[37m\u001b[39;49;00m\n",
      "    10\t\u001b[37m    \u001b[39;49;00m\u001b[94m\"stages\"\u001b[39;49;00m:\u001b[37m \u001b[39;49;00m{\u001b[37m\u001b[39;49;00m\n",
      "    11\t\u001b[37m        \u001b[39;49;00m\u001b[94m\"dev\"\u001b[39;49;00m:\u001b[37m \u001b[39;49;00m{\u001b[37m\u001b[39;49;00m\n",
      "    12\t\u001b[37m            \u001b[39;49;00m\u001b[94m\"api_gateway_stage\"\u001b[39;49;00m:\u001b[37m \u001b[39;49;00m\u001b[33m\"api\"\u001b[39;49;00m,\u001b[37m\u001b[39;49;00m\n",
      "    13\t\u001b[37m             \u001b[39;49;00m\u001b[94m\"iam_policy_file\"\u001b[39;49;00m:\u001b[37m \u001b[39;49;00m\u001b[33m\"policy-dev.json\"\u001b[39;49;00m\u001b[37m\u001b[39;49;00m\n",
      "    14\t\u001b[37m        \u001b[39;49;00m}\u001b[37m\u001b[39;49;00m\n",
      "    15\t\u001b[37m    \u001b[39;49;00m}\u001b[37m\u001b[39;49;00m\n",
      "    16\t}\u001b[37m\u001b[39;49;00m\n"
     ]
    }
   ],
   "source": [
    "template = jinja_env.from_string(Path(config_filename).open().read())\n",
    "Path(config_filename).open(\"w\").write(template.render(endpoint_name=endpoint_name, variant_name=variant_name))\n",
    "!pygmentize $config_filename | cat -n"
   ]
  },
  {
   "cell_type": "markdown",
   "id": "3cd0f83e-7d89-4807-a6fc-a72518799f33",
   "metadata": {},
   "source": [
    "#### json test"
   ]
  },
  {
   "cell_type": "code",
   "execution_count": 255,
   "id": "5dd36e60-663c-4c69-b4eb-01cda5873c54",
   "metadata": {
    "tags": []
   },
   "outputs": [
    {
     "data": {
      "text/plain": [
       "{'data': ['MO,123,1']}"
      ]
     },
     "execution_count": 255,
     "metadata": {},
     "output_type": "execute_result"
    }
   ],
   "source": [
    "json.loads('{\"data\":[\"MO,123,1\"]}')"
   ]
  },
  {
   "cell_type": "code",
   "execution_count": 256,
   "id": "0b0d2b70-f99f-4cd8-a262-dac30e4d7bde",
   "metadata": {
    "tags": []
   },
   "outputs": [
    {
     "name": "stdout",
     "output_type": "stream",
     "text": [
      "Overwriting churn-prediction/app.py\n"
     ]
    }
   ],
   "source": [
    "%%writefile $project_name/app.py \n",
    "import os\n",
    "import io\n",
    "import json\n",
    "import boto3\n",
    "import base64\n",
    "import numpy as np\n",
    "\n",
    "from chalice import Chalice\n",
    "from chalice import BadRequestError\n",
    "\n",
    "app = Chalice(app_name=\"churn-prediction\")\n",
    "app.debug = True\n",
    "\n",
    "runtime = boto3.client(\"runtime.sagemaker\")\n",
    "\n",
    "@app.route(\"/\")\n",
    "def index():\n",
    "    return {'hello': 'world'}\n",
    "\n",
    "@app.route(\"/variant/{variant_name}\", methods=[\"POST\"])\n",
    "def return_prediction(variant_name):\n",
    "    body = app.current_request.json_body\n",
    "    \n",
    "    if app._debug:\n",
    "        print(f\"body : {body} , \\nvariant_name : {variant_name}\")\n",
    "        \n",
    "    if \"data\" not in body:\n",
    "        raise BadRequestError(\"Missing data.\")\n",
    "    if \"ENDPOINT_NAME\" not in os.environ:\n",
    "        raise BadRequestError(\"Missing endpoint.\")\n",
    "\n",
    "    try:\n",
    "        response = runtime.invoke_endpoint(\n",
    "            EndpointName=os.environ[\"ENDPOINT_NAME\"],\n",
    "            TargetVariant=os.environ[\"VARIANT_NAME\"],\n",
    "            ContentType=\"text/csv\",\n",
    "            Body=body['data'],\n",
    "            Accept=\"application/json\"\n",
    "        )\n",
    "        data = response[\"Body\"].read().decode(\"utf-8\")\n",
    "        output = json.loads(data)[\"predictions\"]\n",
    "        \n",
    "        if app._debug:\n",
    "            print(f\"predictions : {output}\")\n",
    "        \n",
    "        return {\n",
    "            \"response\": {\n",
    "                \"value\": json.dumps(output)\n",
    "            }\n",
    "        }\n",
    "    except Exception as e:\n",
    "        print(e)\n",
    "        # print(payload)\n",
    "    "
   ]
  },
  {
   "cell_type": "code",
   "execution_count": 257,
   "id": "ac0d5de4-e618-4ee4-8693-bda57ebf433e",
   "metadata": {},
   "outputs": [
    {
     "name": "stdout",
     "output_type": "stream",
     "text": [
      "Overwriting churn-prediction/requirements.txt\n"
     ]
    }
   ],
   "source": [
    "%%writefile $project_name/requirements.txt\n",
    "numpy"
   ]
  },
  {
   "cell_type": "markdown",
   "id": "0b53994e-dd94-4ae7-8cd2-86ffb96bfe24",
   "metadata": {},
   "source": [
    "### Local Test"
   ]
  },
  {
   "cell_type": "code",
   "execution_count": 267,
   "id": "2f991967-9f41-4175-9914-e575672ae46a",
   "metadata": {
    "tags": []
   },
   "outputs": [
    {
     "name": "stdout",
     "output_type": "stream",
     "text": [
      "curl -X POST localhost:8100/variant/canvas-model-variant-2024-02-12-07-07-15-529579 -H 'Content-Type: application/json' -d '{\"data\":\"MO,176,777,913-2699,no,yes,400,1.639329295774005,3,3.678888958431078,3.0296212421701054,1,3.419607317320714,3.1829204913988565,150,3.701859799002945,4.4130370771175285,6,2.728670064271372,7\"}'\n"
     ]
    }
   ],
   "source": [
    "api_url = 'localhost:8100/'\n",
    "\n",
    "## Test data 로 Terminal에서 추가 테스트 수행\n",
    "print(f\"curl -X POST {api_url}variant/{variant_name} -H 'Content-Type: application/json'\"+\" -d '{\\\"data\\\":\\\"\"+body+\"\\\"}'\")"
   ]
  },
  {
   "cell_type": "code",
   "execution_count": 259,
   "id": "0c153036-5532-4217-9ce9-451e2e137b43",
   "metadata": {
    "scrolled": true,
    "tags": []
   },
   "outputs": [
    {
     "name": "stdout",
     "output_type": "stream",
     "text": [
      "Restarting local dev server.\n",
      "Restarting local dev server.\n",
      "Restarting local dev server.\n",
      "Restarting local dev server.\n",
      "Restarting local dev server.\n",
      "Restarting local dev server.\n",
      "Restarting local dev server.\n",
      "Restarting local dev server.\n",
      "Restarting local dev server.\n",
      "Restarting local dev server.\n",
      "Restarting local dev server.\n",
      "Restarting local dev server.\n",
      "Restarting local dev server.\n",
      "Restarting local dev server.\n",
      "Restarting local dev server.\n",
      "Restarting local dev server.\n",
      "Restarting local dev server.\n",
      "Restarting local dev server.\n",
      "Found credentials in shared credentials file: ~/.aws/credentials\n",
      "Serving on http://127.0.0.1:8100\n",
      "body : {'data': 'MO,176,777,913-2699,no,yes,400,1.639329295774005,3,3.678888958431078,3.0296212421701054,1,3.419607317320714,3.1829204913988565,150,3.701859799002945,4.4130370771175285,6,2.728670064271372,7'} , \n",
      "variant_name : canvas-model-variant-2024-02-12-07-07-15-529579\n",
      "predictions : [{'predicted_label': 'False.', 'probability': 0.9965066909790039, 'probabilities': '[0.9965066909790039, 0.003493297379463911]', 'labels': \"['False.', 'True.']\"}]\n",
      "127.0.0.1 - - [12/Feb/2024 10:31:25] \"POST /variant/canvas-model-variant-2024-02-12-07-07-15-529579 HTTP/1.1\" 200 -\n",
      "^C\n"
     ]
    }
   ],
   "source": [
    "!cd $project_name && chalice local --port=8100"
   ]
  },
  {
   "cell_type": "markdown",
   "id": "3e0772a1-120a-416a-9a25-44a38925b01b",
   "metadata": {},
   "source": [
    "### Production Test"
   ]
  },
  {
   "cell_type": "code",
   "execution_count": 260,
   "id": "b0cfc310-faaa-408b-8ebc-0dad0938d5bf",
   "metadata": {
    "tags": []
   },
   "outputs": [
    {
     "name": "stdout",
     "output_type": "stream",
     "text": [
      "/home/ec2-user/anaconda3/envs/python3/lib/python3.10/site-packages/_distutils_hack/__init__.py:33: UserWarning: Setuptools is replacing distutils.\n",
      "  warnings.warn(\"Setuptools is replacing distutils.\")\n",
      "Creating shared layer deployment package.\n",
      "Creating app deployment package.\n",
      "Creating lambda layer: churn-prediction-dev-managed-layer\n",
      "Creating IAM role: churn-prediction-dev-api_handler\n",
      "Creating lambda function: churn-prediction-dev\n",
      "Creating Rest API\n",
      "Resources deployed:\n",
      "  - Lambda Layer ARN: arn:aws:lambda:us-west-2:322537213286:layer:churn-prediction-dev-managed-layer:1\n",
      "  - Lambda ARN: arn:aws:lambda:us-west-2:322537213286:function:churn-prediction-dev\n",
      "  - Rest API URL: https://icbzqrl2y8.execute-api.us-west-2.amazonaws.com/api/\n"
     ]
    }
   ],
   "source": [
    "!cd $project_name && chalice deploy"
   ]
  },
  {
   "cell_type": "code",
   "execution_count": 263,
   "id": "3650a7ef-e1d8-4240-b4f8-acfe12b4265f",
   "metadata": {
    "tags": []
   },
   "outputs": [],
   "source": [
    "api_url = 'https://icbzqrl2y8.execute-api.us-west-2.amazonaws.com/api/'  ## chalice deploy의 결과 값에서 copy하여 변경\n",
    "\n",
    "## Test data 로 Terminal에서 추가 테스트 수행\n",
    "print(f\"curl -X POST {api_url}variant/{variant_name} -H 'Content-Type: application/json'\"+\" -d '{\\\"data\\\":\\\"\"+body+\"\\\"}'\")"
   ]
  },
  {
   "cell_type": "code",
   "execution_count": 268,
   "id": "f6b25200-5645-4c61-985e-0b27abd02e05",
   "metadata": {
    "tags": []
   },
   "outputs": [
    {
     "name": "stdout",
     "output_type": "stream",
     "text": [
      "Deleting Rest API: icbzqrl2y8\n",
      "Deleting function: arn:aws:lambda:us-west-2:322537213286:function:churn-prediction-dev\n",
      "Deleting IAM role: churn-prediction-dev-api_handler\n",
      "Deleting layer version: arn:aws:lambda:us-west-2:322537213286:layer:churn-prediction-dev-managed-layer:1\n"
     ]
    }
   ],
   "source": [
    "!cd $project_name && chalice delete"
   ]
  },
  {
   "cell_type": "markdown",
   "id": "19b2d438-8744-47bc-92e3-dc0ad457fcc0",
   "metadata": {},
   "source": [
    "## Lab6"
   ]
  },
  {
   "cell_type": "code",
   "execution_count": 295,
   "id": "c14b2012-e9ba-4a92-ad6e-f46102de4737",
   "metadata": {
    "tags": []
   },
   "outputs": [],
   "source": [
    "# Configuration\n",
    "endpoint_name = \"canvas-new-deployment-02-12-2024-8-45-PM\"\n",
    "variant_name = sm_client.describe_endpoint(EndpointName=endpoint_name)['ProductionVariants'][0]['VariantName']"
   ]
  },
  {
   "cell_type": "code",
   "execution_count": 296,
   "id": "8ddc343b-a1fe-43f4-bff0-84bb8af76422",
   "metadata": {
    "tags": []
   },
   "outputs": [],
   "source": [
    "body = pd.DataFrame(\n",
    "    [['1', 'H29424', 'L', '297.4', '308.6', '1419', '35', '0']]\n",
    ").to_csv(header=False, index=False).encode(\"utf-8\") "
   ]
  },
  {
   "cell_type": "code",
   "execution_count": 297,
   "id": "d5666ec1-87a7-4a5c-a2d3-06ec72820eea",
   "metadata": {
    "tags": []
   },
   "outputs": [
    {
     "data": {
      "text/plain": [
       "b'1,H29424,L,297.4,308.6,1419,35,0\\n'"
      ]
     },
     "execution_count": 297,
     "metadata": {},
     "output_type": "execute_result"
    }
   ],
   "source": [
    "body"
   ]
  },
  {
   "cell_type": "code",
   "execution_count": 298,
   "id": "3c20f4a4-9abb-4417-853a-93ee7caca954",
   "metadata": {
    "tags": []
   },
   "outputs": [
    {
     "data": {
      "text/plain": [
       "[{'predicted_label': 'No Failure',\n",
       "  'probability': 0.9645493626594543,\n",
       "  'probabilities': '[0.9645493626594543, 0.0, 0.035450633615255356]',\n",
       "  'labels': \"['No Failure', 'Overstrain Failure', 'Power Failure']\"}]"
      ]
     },
     "execution_count": 298,
     "metadata": {},
     "output_type": "execute_result"
    }
   ],
   "source": [
    "response = runtime_client.invoke_endpoint(\n",
    "    EndpointName=endpoint_name,\n",
    "    TargetVariant=variant_name,\n",
    "    ContentType=\"text/csv\",\n",
    "    # ContentType=\"application/json\",\n",
    "    Body=body,\n",
    "    Accept=\"application/json\"\n",
    ")\n",
    "data = response[\"Body\"].read().decode(\"utf-8\")\n",
    "output = json.loads(data)[\"predictions\"]\n",
    "output"
   ]
  },
  {
   "cell_type": "code",
   "execution_count": null,
   "id": "4fe63e51-68d5-4424-ac2d-dcc16e1e4c7e",
   "metadata": {},
   "outputs": [],
   "source": []
  }
 ],
 "metadata": {
  "kernelspec": {
   "display_name": "conda_python3",
   "language": "python",
   "name": "conda_python3"
  },
  "language_info": {
   "codemirror_mode": {
    "name": "ipython",
    "version": 3
   },
   "file_extension": ".py",
   "mimetype": "text/x-python",
   "name": "python",
   "nbconvert_exporter": "python",
   "pygments_lexer": "ipython3",
   "version": "3.10.13"
  }
 },
 "nbformat": 4,
 "nbformat_minor": 5
}
